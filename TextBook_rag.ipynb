{
 "cells": [
  {
   "cell_type": "markdown",
   "id": "4a286ac1",
   "metadata": {},
   "source": [
    "#RAG Implementation of all textbook subject wise"
   ]
  },
  {
   "cell_type": "code",
   "execution_count": 1,
   "id": "107f1d15",
   "metadata": {},
   "outputs": [
    {
     "name": "stdout",
     "output_type": "stream",
     "text": [
      "Requirement already satisfied: langchain in c:\\temp\\textbooksrag\\experimentss\\rag_buildling\\.venv\\lib\\site-packages (0.3.25)\n",
      "Requirement already satisfied: langchain-community in c:\\temp\\textbooksrag\\experimentss\\rag_buildling\\.venv\\lib\\site-packages (0.3.23)\n",
      "Requirement already satisfied: pypdf in c:\\temp\\textbooksrag\\experimentss\\rag_buildling\\.venv\\lib\\site-packages (5.4.0)\n",
      "Requirement already satisfied: langchain-core<1.0.0,>=0.3.58 in c:\\temp\\textbooksrag\\experimentss\\rag_buildling\\.venv\\lib\\site-packages (from langchain) (0.3.58)\n",
      "Requirement already satisfied: langchain-text-splitters<1.0.0,>=0.3.8 in c:\\temp\\textbooksrag\\experimentss\\rag_buildling\\.venv\\lib\\site-packages (from langchain) (0.3.8)\n",
      "Requirement already satisfied: langsmith<0.4,>=0.1.17 in c:\\temp\\textbooksrag\\experimentss\\rag_buildling\\.venv\\lib\\site-packages (from langchain) (0.3.42)\n",
      "Requirement already satisfied: pydantic<3.0.0,>=2.7.4 in c:\\temp\\textbooksrag\\experimentss\\rag_buildling\\.venv\\lib\\site-packages (from langchain) (2.11.4)\n",
      "Requirement already satisfied: SQLAlchemy<3,>=1.4 in c:\\temp\\textbooksrag\\experimentss\\rag_buildling\\.venv\\lib\\site-packages (from langchain) (2.0.40)\n",
      "Requirement already satisfied: requests<3,>=2 in c:\\temp\\textbooksrag\\experimentss\\rag_buildling\\.venv\\lib\\site-packages (from langchain) (2.32.3)\n",
      "Requirement already satisfied: PyYAML>=5.3 in c:\\temp\\textbooksrag\\experimentss\\rag_buildling\\.venv\\lib\\site-packages (from langchain) (6.0.2)\n",
      "Requirement already satisfied: aiohttp<4.0.0,>=3.8.3 in c:\\temp\\textbooksrag\\experimentss\\rag_buildling\\.venv\\lib\\site-packages (from langchain-community) (3.11.18)\n",
      "Requirement already satisfied: tenacity!=8.4.0,<10,>=8.1.0 in c:\\temp\\textbooksrag\\experimentss\\rag_buildling\\.venv\\lib\\site-packages (from langchain-community) (9.1.2)\n",
      "Requirement already satisfied: dataclasses-json<0.7,>=0.5.7 in c:\\temp\\textbooksrag\\experimentss\\rag_buildling\\.venv\\lib\\site-packages (from langchain-community) (0.6.7)\n",
      "Requirement already satisfied: pydantic-settings<3.0.0,>=2.4.0 in c:\\temp\\textbooksrag\\experimentss\\rag_buildling\\.venv\\lib\\site-packages (from langchain-community) (2.9.1)\n",
      "Requirement already satisfied: httpx-sse<1.0.0,>=0.4.0 in c:\\temp\\textbooksrag\\experimentss\\rag_buildling\\.venv\\lib\\site-packages (from langchain-community) (0.4.0)\n",
      "Requirement already satisfied: numpy>=1.26.2 in c:\\temp\\textbooksrag\\experimentss\\rag_buildling\\.venv\\lib\\site-packages (from langchain-community) (2.2.5)\n",
      "Requirement already satisfied: aiohappyeyeballs>=2.3.0 in c:\\temp\\textbooksrag\\experimentss\\rag_buildling\\.venv\\lib\\site-packages (from aiohttp<4.0.0,>=3.8.3->langchain-community) (2.6.1)\n",
      "Requirement already satisfied: aiosignal>=1.1.2 in c:\\temp\\textbooksrag\\experimentss\\rag_buildling\\.venv\\lib\\site-packages (from aiohttp<4.0.0,>=3.8.3->langchain-community) (1.3.2)\n",
      "Requirement already satisfied: attrs>=17.3.0 in c:\\temp\\textbooksrag\\experimentss\\rag_buildling\\.venv\\lib\\site-packages (from aiohttp<4.0.0,>=3.8.3->langchain-community) (25.3.0)\n",
      "Requirement already satisfied: frozenlist>=1.1.1 in c:\\temp\\textbooksrag\\experimentss\\rag_buildling\\.venv\\lib\\site-packages (from aiohttp<4.0.0,>=3.8.3->langchain-community) (1.6.0)\n",
      "Requirement already satisfied: multidict<7.0,>=4.5 in c:\\temp\\textbooksrag\\experimentss\\rag_buildling\\.venv\\lib\\site-packages (from aiohttp<4.0.0,>=3.8.3->langchain-community) (6.4.3)\n",
      "Requirement already satisfied: propcache>=0.2.0 in c:\\temp\\textbooksrag\\experimentss\\rag_buildling\\.venv\\lib\\site-packages (from aiohttp<4.0.0,>=3.8.3->langchain-community) (0.3.1)\n",
      "Requirement already satisfied: yarl<2.0,>=1.17.0 in c:\\temp\\textbooksrag\\experimentss\\rag_buildling\\.venv\\lib\\site-packages (from aiohttp<4.0.0,>=3.8.3->langchain-community) (1.20.0)\n",
      "Requirement already satisfied: marshmallow<4.0.0,>=3.18.0 in c:\\temp\\textbooksrag\\experimentss\\rag_buildling\\.venv\\lib\\site-packages (from dataclasses-json<0.7,>=0.5.7->langchain-community) (3.26.1)\n",
      "Requirement already satisfied: typing-inspect<1,>=0.4.0 in c:\\temp\\textbooksrag\\experimentss\\rag_buildling\\.venv\\lib\\site-packages (from dataclasses-json<0.7,>=0.5.7->langchain-community) (0.9.0)\n",
      "Requirement already satisfied: jsonpatch<2.0,>=1.33 in c:\\temp\\textbooksrag\\experimentss\\rag_buildling\\.venv\\lib\\site-packages (from langchain-core<1.0.0,>=0.3.58->langchain) (1.33)\n",
      "Requirement already satisfied: packaging<25,>=23.2 in c:\\temp\\textbooksrag\\experimentss\\rag_buildling\\.venv\\lib\\site-packages (from langchain-core<1.0.0,>=0.3.58->langchain) (24.2)\n",
      "Requirement already satisfied: typing-extensions>=4.7 in c:\\temp\\textbooksrag\\experimentss\\rag_buildling\\.venv\\lib\\site-packages (from langchain-core<1.0.0,>=0.3.58->langchain) (4.13.2)\n",
      "Requirement already satisfied: httpx<1,>=0.23.0 in c:\\temp\\textbooksrag\\experimentss\\rag_buildling\\.venv\\lib\\site-packages (from langsmith<0.4,>=0.1.17->langchain) (0.28.1)\n",
      "Requirement already satisfied: orjson<4.0.0,>=3.9.14 in c:\\temp\\textbooksrag\\experimentss\\rag_buildling\\.venv\\lib\\site-packages (from langsmith<0.4,>=0.1.17->langchain) (3.10.18)\n",
      "Requirement already satisfied: requests-toolbelt<2.0.0,>=1.0.0 in c:\\temp\\textbooksrag\\experimentss\\rag_buildling\\.venv\\lib\\site-packages (from langsmith<0.4,>=0.1.17->langchain) (1.0.0)\n",
      "Requirement already satisfied: zstandard<0.24.0,>=0.23.0 in c:\\temp\\textbooksrag\\experimentss\\rag_buildling\\.venv\\lib\\site-packages (from langsmith<0.4,>=0.1.17->langchain) (0.23.0)\n",
      "Requirement already satisfied: annotated-types>=0.6.0 in c:\\temp\\textbooksrag\\experimentss\\rag_buildling\\.venv\\lib\\site-packages (from pydantic<3.0.0,>=2.7.4->langchain) (0.7.0)\n",
      "Requirement already satisfied: pydantic-core==2.33.2 in c:\\temp\\textbooksrag\\experimentss\\rag_buildling\\.venv\\lib\\site-packages (from pydantic<3.0.0,>=2.7.4->langchain) (2.33.2)\n",
      "Requirement already satisfied: typing-inspection>=0.4.0 in c:\\temp\\textbooksrag\\experimentss\\rag_buildling\\.venv\\lib\\site-packages (from pydantic<3.0.0,>=2.7.4->langchain) (0.4.0)\n",
      "Requirement already satisfied: python-dotenv>=0.21.0 in c:\\temp\\textbooksrag\\experimentss\\rag_buildling\\.venv\\lib\\site-packages (from pydantic-settings<3.0.0,>=2.4.0->langchain-community) (1.1.0)\n",
      "Requirement already satisfied: charset-normalizer<4,>=2 in c:\\temp\\textbooksrag\\experimentss\\rag_buildling\\.venv\\lib\\site-packages (from requests<3,>=2->langchain) (3.4.2)\n",
      "Requirement already satisfied: idna<4,>=2.5 in c:\\temp\\textbooksrag\\experimentss\\rag_buildling\\.venv\\lib\\site-packages (from requests<3,>=2->langchain) (3.10)\n",
      "Requirement already satisfied: urllib3<3,>=1.21.1 in c:\\temp\\textbooksrag\\experimentss\\rag_buildling\\.venv\\lib\\site-packages (from requests<3,>=2->langchain) (2.4.0)\n",
      "Requirement already satisfied: certifi>=2017.4.17 in c:\\temp\\textbooksrag\\experimentss\\rag_buildling\\.venv\\lib\\site-packages (from requests<3,>=2->langchain) (2025.4.26)\n",
      "Requirement already satisfied: greenlet>=1 in c:\\temp\\textbooksrag\\experimentss\\rag_buildling\\.venv\\lib\\site-packages (from SQLAlchemy<3,>=1.4->langchain) (3.2.1)\n",
      "Requirement already satisfied: anyio in c:\\temp\\textbooksrag\\experimentss\\rag_buildling\\.venv\\lib\\site-packages (from httpx<1,>=0.23.0->langsmith<0.4,>=0.1.17->langchain) (4.9.0)\n",
      "Requirement already satisfied: httpcore==1.* in c:\\temp\\textbooksrag\\experimentss\\rag_buildling\\.venv\\lib\\site-packages (from httpx<1,>=0.23.0->langsmith<0.4,>=0.1.17->langchain) (1.0.9)\n",
      "Requirement already satisfied: h11>=0.16 in c:\\temp\\textbooksrag\\experimentss\\rag_buildling\\.venv\\lib\\site-packages (from httpcore==1.*->httpx<1,>=0.23.0->langsmith<0.4,>=0.1.17->langchain) (0.16.0)\n",
      "Requirement already satisfied: jsonpointer>=1.9 in c:\\temp\\textbooksrag\\experimentss\\rag_buildling\\.venv\\lib\\site-packages (from jsonpatch<2.0,>=1.33->langchain-core<1.0.0,>=0.3.58->langchain) (3.0.0)\n",
      "Requirement already satisfied: mypy-extensions>=0.3.0 in c:\\temp\\textbooksrag\\experimentss\\rag_buildling\\.venv\\lib\\site-packages (from typing-inspect<1,>=0.4.0->dataclasses-json<0.7,>=0.5.7->langchain-community) (1.1.0)\n",
      "Requirement already satisfied: sniffio>=1.1 in c:\\temp\\textbooksrag\\experimentss\\rag_buildling\\.venv\\lib\\site-packages (from anyio->httpx<1,>=0.23.0->langsmith<0.4,>=0.1.17->langchain) (1.3.1)\n",
      "Note: you may need to restart the kernel to use updated packages.\n"
     ]
    },
    {
     "name": "stderr",
     "output_type": "stream",
     "text": [
      "\n",
      "[notice] A new release of pip is available: 24.0 -> 25.1.1\n",
      "[notice] To update, run: python.exe -m pip install --upgrade pip\n"
     ]
    }
   ],
   "source": [
    "%pip install langchain langchain-community pypdf"
   ]
  },
  {
   "cell_type": "code",
   "execution_count": 2,
   "id": "bade1d8b",
   "metadata": {},
   "outputs": [],
   "source": [
    "from langchain_community.document_loaders import DirectoryLoader, PyPDFLoader"
   ]
  },
  {
   "cell_type": "code",
   "execution_count": 3,
   "id": "7ac632fd",
   "metadata": {},
   "outputs": [],
   "source": [
    "loader = DirectoryLoader(\n",
    "    path=\"data/Tenth/Science\",\n",
    "    glob=\"*.pdf\",\n",
    "    loader_cls=PyPDFLoader\n",
    ")\n"
   ]
  },
  {
   "cell_type": "code",
   "execution_count": 4,
   "id": "167e7350",
   "metadata": {},
   "outputs": [],
   "source": [
    "documents = loader.load()"
   ]
  },
  {
   "cell_type": "code",
   "execution_count": 5,
   "id": "988c7ab0",
   "metadata": {},
   "outputs": [],
   "source": [
    "from langchain_text_splitters import RecursiveCharacterTextSplitter"
   ]
  },
  {
   "cell_type": "code",
   "execution_count": 6,
   "id": "7011e281",
   "metadata": {},
   "outputs": [],
   "source": [
    "splitter = RecursiveCharacterTextSplitter(chunk_size=1000, chunk_overlap=100)"
   ]
  },
  {
   "cell_type": "code",
   "execution_count": 7,
   "id": "70cea88b",
   "metadata": {},
   "outputs": [],
   "source": [
    "chunks = splitter.split_documents(documents)"
   ]
  },
  {
   "cell_type": "code",
   "execution_count": 8,
   "id": "1ba7bbbd",
   "metadata": {},
   "outputs": [
    {
     "name": "stdout",
     "output_type": "stream",
     "text": [
      "Total chunks: 184\n"
     ]
    }
   ],
   "source": [
    "print(f\"Total chunks: {len(chunks)}\")"
   ]
  },
  {
   "cell_type": "code",
   "execution_count": 9,
   "id": "22fba132",
   "metadata": {},
   "outputs": [
    {
     "name": "stdout",
     "output_type": "stream",
     "text": [
      "page_content='using visible movement as the defining characteristic of life is not enough.\n",
      "Movements over very small scales will be invisible to the naked eye –\n",
      "movements of molecules, for example. Is this invisible molecular\n",
      "movement necessary for life? If we ask this question to professional\n",
      "biologists, they will say yes. In fact, viruses do not show any molecular\n",
      "movement in them (until they infect some cell), and that is partly why\n",
      "there is a controversy about whether they are truly alive or not.\n",
      "Why are molecular movements needed for life? We have seen in earlier\n",
      "classes that living organisms are well-organised structures; they can\n",
      "have tissues, tissues have cells, cells have smaller components in them,\n",
      "and so on. Because of the effects of the environment, this organised,\n",
      "ordered nature of living structures is very likely to keep breaking down\n",
      "over time. If order breaks down, the organism will no longer be alive. So\n",
      "living creatures must keep repairing and maintaining their structures.' metadata={'producer': 'GPL Ghostscript 8.15', 'creator': 'PageMaker 7.0', 'creationdate': '2022-08-17T15:57:29+00:00', 'author': 'admin', 'moddate': '2025-04-04T12:10:12+05:30', 'title': 'CHAP 5.pmd', 'source': 'data\\\\Tenth\\\\Science\\\\jesc105.pdf', 'total_pages': 21, 'page': 0, 'page_label': '1'}\n",
      "page_content='living creatures must keep repairing and maintaining their structures.\n",
      "Since all these structures are made up of molecules, they must move\n",
      "molecules around all the time.\n",
      "What are the maintenance processes in living organisms?\n",
      "Let us explore.\n",
      "5.1 WHA5.1 WHA5.1 WHA\n",
      "5.1 WHA5.1 WHA T ARE LIFE PROCESSES?T ARE LIFE PROCESSES?T ARE LIFE PROCESSES?T ARE LIFE PROCESSES?T ARE LIFE PROCESSES?\n",
      "The maintenance functions of living organisms must go on even when\n",
      "they are not doing anything particular. Even when we are just sitting in\n",
      "Reprint 2025-26' metadata={'producer': 'GPL Ghostscript 8.15', 'creator': 'PageMaker 7.0', 'creationdate': '2022-08-17T15:57:29+00:00', 'author': 'admin', 'moddate': '2025-04-04T12:10:12+05:30', 'title': 'CHAP 5.pmd', 'source': 'data\\\\Tenth\\\\Science\\\\jesc105.pdf', 'total_pages': 21, 'page': 0, 'page_label': '1'}\n",
      "page_content='Science80\n",
      "class, even if we are just asleep, this maintenance job has to go on.\n",
      "The processes which together perform this maintenance job are\n",
      "life processes.\n",
      "Since these maintenance processes are needed to prevent damage\n",
      "and break-down, energy is needed for them. This energy comes from\n",
      "outside the body of the individual organism. So there must be a process\n",
      "to transfer a source of energy from outside the body of the organism,\n",
      "which we call food, to the inside, a process we commonly call nutrition.\n",
      "If the body size of the organisms is to grow, additional raw material will\n",
      "also be needed from outside. Since life on earth depends on carbon-\n",
      "based molecules, most of these food sources are also carbon-based.\n",
      "Depending on the complexity of these carbon sources, different\n",
      "organisms can then use different kinds of nutritional processes.\n",
      "The outside sources of energy could be quite varied, since the\n",
      "environment is not under the control of the individual organism. These' metadata={'producer': 'GPL Ghostscript 8.15', 'creator': 'PageMaker 7.0', 'creationdate': '2022-08-17T15:57:29+00:00', 'author': 'admin', 'moddate': '2025-04-04T12:10:12+05:30', 'title': 'CHAP 5.pmd', 'source': 'data\\\\Tenth\\\\Science\\\\jesc105.pdf', 'total_pages': 21, 'page': 1, 'page_label': '2'}\n",
      "page_content='environment is not under the control of the individual organism. These\n",
      "sources of energy, therefore, need to be broken down or built up in the\n",
      "body, and must be finally converted to a uniform source of energy that\n",
      "can be used for the various molecular movements needed for\n",
      "maintaining living structures, as well as to the kind of molecules the\n",
      "body needs to grow. For this, a series of chemical reactions in the\n",
      "body are necessary. Oxidising-reducing reactions are some of the most\n",
      "common chemical means to break -down molecules. For this, many\n",
      "organisms use oxygen sourced from outside the body. The process\n",
      "of acquiring oxygen from outside the body, and to use it in the process\n",
      "of break -down of food sources for cellular needs, is what we call\n",
      "respiration.\n",
      "In the case of a single-celled organism, no specific organs for taking\n",
      "in food, exchange of gases or removal of wastes may be needed because\n",
      "the entire surface of the organism is in contact with the environment.' metadata={'producer': 'GPL Ghostscript 8.15', 'creator': 'PageMaker 7.0', 'creationdate': '2022-08-17T15:57:29+00:00', 'author': 'admin', 'moddate': '2025-04-04T12:10:12+05:30', 'title': 'CHAP 5.pmd', 'source': 'data\\\\Tenth\\\\Science\\\\jesc105.pdf', 'total_pages': 21, 'page': 1, 'page_label': '2'}\n",
      "page_content='the entire surface of the organism is in contact with the environment.\n",
      "But what happens when the body size of the organism increases and\n",
      "the body design becomes more complex? In multi-cellular organisms,\n",
      "all the cells may not be in direct contact with the surrounding\n",
      "environment. Thus, simple diffusion will not meet the requirements of\n",
      "all the cells.\n",
      "We have seen previously how, in multi-cellular organisms, various\n",
      "body parts have specialised in the functions they perform. We are familiar\n",
      "with the idea of these specialised tissues, and with their organisation in\n",
      "the body of the organism. It is therefore not surprising that the uptake\n",
      "of food and of oxygen will also be the function of specialised tissues.\n",
      "However, this poses a problem, since the food and oxygen are now taken\n",
      "up at one place in the body of the organisms, while all parts of the body\n",
      "need them. This situation creates a need for a transportation system for\n",
      "carrying food and oxygen from one place to another in the body.' metadata={'producer': 'GPL Ghostscript 8.15', 'creator': 'PageMaker 7.0', 'creationdate': '2022-08-17T15:57:29+00:00', 'author': 'admin', 'moddate': '2025-04-04T12:10:12+05:30', 'title': 'CHAP 5.pmd', 'source': 'data\\\\Tenth\\\\Science\\\\jesc105.pdf', 'total_pages': 21, 'page': 1, 'page_label': '2'}\n",
      "page_content='carrying food and oxygen from one place to another in the body.\n",
      "When chemical reactions use the carbon source and the oxygen for\n",
      "energy generation,  they create by-products that are not only useless\n",
      "for the cells of the body, but could even be harmful. These waste by-\n",
      "products are  therefore needed to be removed from the body and discarded\n",
      "outside  by a process called excretion. Again, if the basic rules for body\n",
      "Reprint 2025-26' metadata={'producer': 'GPL Ghostscript 8.15', 'creator': 'PageMaker 7.0', 'creationdate': '2022-08-17T15:57:29+00:00', 'author': 'admin', 'moddate': '2025-04-04T12:10:12+05:30', 'title': 'CHAP 5.pmd', 'source': 'data\\\\Tenth\\\\Science\\\\jesc105.pdf', 'total_pages': 21, 'page': 1, 'page_label': '2'}\n",
      "page_content='Life Processes 81\n",
      "design in multi-cellular organisms are followed, a specialised tissue for\n",
      "excretion will be developed, which means that the transportation system\n",
      "will need to transport waste away from cells to this excretory tissue.\n",
      "Let us consider these various processes, so essential to maintain\n",
      "life, one by one.\n",
      "QUESTIONS\n",
      "?\n",
      "1. Why is diffusion insufficient to meet the oxygen requirements of multi-\n",
      "cellular organisms like humans?\n",
      "2. What criteria do we use to decide whether something is alive?\n",
      "3. What are outside raw materials used for by an organism?\n",
      "4. What processes would you consider essential for maintaining life?\n",
      "5.2 NUTRITION5.2 NUTRITION5.2 NUTRITION5.2 NUTRITION5.2 NUTRITION\n",
      "When we walk or ride a bicycle, we are using up energy. Even when we\n",
      "are not doing any apparent activity, energy is needed to maintain a\n",
      "state of order in our body. We also need materials from outside in order\n",
      "to grow, develop, synthesise protein and other substances needed in' metadata={'producer': 'GPL Ghostscript 8.15', 'creator': 'PageMaker 7.0', 'creationdate': '2022-08-17T15:57:29+00:00', 'author': 'admin', 'moddate': '2025-04-04T12:10:12+05:30', 'title': 'CHAP 5.pmd', 'source': 'data\\\\Tenth\\\\Science\\\\jesc105.pdf', 'total_pages': 21, 'page': 2, 'page_label': '3'}\n",
      "page_content='to grow, develop, synthesise protein and other substances needed in\n",
      "the body. This source of energy and materials is the food we eat.\n",
      "How do living things get their food?\n",
      "The general requirement for energy and materials is common in all\n",
      "organisms, but it is fulfilled in different ways. Some organisms use simple\n",
      "food material obtained from inorganic sources in the form of carbon\n",
      "dioxide and water. These or ganisms, the autotr ophs, include gr een\n",
      "plants and some bacteria. Other organisms utilise complex substances.\n",
      "These complex substances have to be broken down into simpler ones\n",
      "before they can be used for the upkeep and growth of the body. To\n",
      "achieve this, organisms use bio-catalysts called enzymes. Thus, the\n",
      "heterotrophs survival depends directly or indirectly on autotrophs.\n",
      "Heterotrophic organisms include animals and fungi.\n",
      "5.2.1 Autotrophic Nutrition\n",
      "Carbon and energy requirements of the autotrophic organism are' metadata={'producer': 'GPL Ghostscript 8.15', 'creator': 'PageMaker 7.0', 'creationdate': '2022-08-17T15:57:29+00:00', 'author': 'admin', 'moddate': '2025-04-04T12:10:12+05:30', 'title': 'CHAP 5.pmd', 'source': 'data\\\\Tenth\\\\Science\\\\jesc105.pdf', 'total_pages': 21, 'page': 2, 'page_label': '3'}\n",
      "page_content='5.2.1 Autotrophic Nutrition\n",
      "Carbon and energy requirements of the autotrophic organism are\n",
      "fulfilled by photosynthesis. It is the process by which autotrophs take\n",
      "in substances from the outside and convert them into stored forms of\n",
      "energy. This material is taken in the form of carbon dioxide and water\n",
      "which is converted into carbohydrates in the presence of sunlight and\n",
      "chlorophyll. Carbohydrates are utilised for providing energy to the plant.\n",
      "We will study how this takes place in the next section. The carbohydrates\n",
      "which are not used immediately are stored in the form of starch, which\n",
      "serves as the internal energy reserve to be used as and when required\n",
      "by the plant. A somewhat similar situation is seen in us where some of\n",
      "the energy derived from the food we eat is stored in our body in the form\n",
      "of glycogen.\n",
      "Reprint 2025-26' metadata={'producer': 'GPL Ghostscript 8.15', 'creator': 'PageMaker 7.0', 'creationdate': '2022-08-17T15:57:29+00:00', 'author': 'admin', 'moddate': '2025-04-04T12:10:12+05:30', 'title': 'CHAP 5.pmd', 'source': 'data\\\\Tenth\\\\Science\\\\jesc105.pdf', 'total_pages': 21, 'page': 2, 'page_label': '3'}\n"
     ]
    }
   ],
   "source": [
    "for chunk in chunks[1:10]:\n",
    "    print(chunk)"
   ]
  },
  {
   "cell_type": "code",
   "execution_count": 10,
   "id": "a4a8a22a",
   "metadata": {},
   "outputs": [
    {
     "name": "stdout",
     "output_type": "stream",
     "text": [
      "Note: you may need to restart the kernel to use updated packages.\n"
     ]
    },
    {
     "name": "stderr",
     "output_type": "stream",
     "text": [
      "\n",
      "[notice] A new release of pip is available: 24.0 -> 25.1.1\n",
      "[notice] To update, run: python.exe -m pip install --upgrade pip\n"
     ]
    }
   ],
   "source": [
    "%pip install -qU langchain-google-vertexai chromadb"
   ]
  },
  {
   "cell_type": "code",
   "execution_count": 11,
   "id": "2d5f294b",
   "metadata": {},
   "outputs": [],
   "source": [
    "from langchain_google_vertexai import VertexAIEmbeddings\n",
    "\n",
    "embedding_model = \"text-embedding-005\"\n",
    "embeddings = VertexAIEmbeddings(model_name=embedding_model)"
   ]
  },
  {
   "cell_type": "code",
   "execution_count": 12,
   "id": "ef50bce4",
   "metadata": {},
   "outputs": [
    {
     "name": "stdout",
     "output_type": "stream",
     "text": [
      "Stored in Chroma.\n"
     ]
    },
    {
     "name": "stderr",
     "output_type": "stream",
     "text": [
      "Retrying vertexai.language_models._language_models._TextEmbeddingModel.get_embeddings in 4.0 seconds as it raised ResourceExhausted: 429 Quota exceeded for aiplatform.googleapis.com/online_prediction_requests_per_base_model with base model: textembedding-gecko. Please submit a quota increase request. https://cloud.google.com/vertex-ai/docs/generative-ai/quotas-genai..\n",
      "Retrying vertexai.language_models._language_models._TextEmbeddingModel.get_embeddings in 4.0 seconds as it raised ResourceExhausted: 429 Quota exceeded for aiplatform.googleapis.com/online_prediction_requests_per_base_model with base model: textembedding-gecko. Please submit a quota increase request. https://cloud.google.com/vertex-ai/docs/generative-ai/quotas-genai..\n",
      "Retrying vertexai.language_models._language_models._TextEmbeddingModel.get_embeddings in 4.0 seconds as it raised ResourceExhausted: 429 Quota exceeded for aiplatform.googleapis.com/online_prediction_requests_per_base_model with base model: textembedding-gecko. Please submit a quota increase request. https://cloud.google.com/vertex-ai/docs/generative-ai/quotas-genai..\n",
      "Retrying vertexai.language_models._language_models._TextEmbeddingModel.get_embeddings in 4.0 seconds as it raised ResourceExhausted: 429 Quota exceeded for aiplatform.googleapis.com/online_prediction_requests_per_base_model with base model: textembedding-gecko. Please submit a quota increase request. https://cloud.google.com/vertex-ai/docs/generative-ai/quotas-genai..\n",
      "Retrying vertexai.language_models._language_models._TextEmbeddingModel.get_embeddings in 4.0 seconds as it raised ResourceExhausted: 429 Quota exceeded for aiplatform.googleapis.com/online_prediction_requests_per_base_model with base model: textembedding-gecko. Please submit a quota increase request. https://cloud.google.com/vertex-ai/docs/generative-ai/quotas-genai..\n",
      "Retrying vertexai.language_models._language_models._TextEmbeddingModel.get_embeddings in 8.0 seconds as it raised ResourceExhausted: 429 Quota exceeded for aiplatform.googleapis.com/online_prediction_requests_per_base_model with base model: textembedding-gecko. Please submit a quota increase request. https://cloud.google.com/vertex-ai/docs/generative-ai/quotas-genai..\n",
      "Retrying vertexai.language_models._language_models._TextEmbeddingModel.get_embeddings in 10.0 seconds as it raised ResourceExhausted: 429 Quota exceeded for aiplatform.googleapis.com/online_prediction_requests_per_base_model with base model: textembedding-gecko. Please submit a quota increase request. https://cloud.google.com/vertex-ai/docs/generative-ai/quotas-genai..\n"
     ]
    }
   ],
   "source": [
    "from langchain.vectorstores import Chroma\n",
    "\n",
    "chroma_store = Chroma.from_documents(\n",
    "    documents=chunks,\n",
    "    embedding=embeddings,\n",
    "    persist_directory=\"./chroma_db\"\n",
    ")\n",
    "\n",
    "print(\"Stored in Chroma.\")\n"
   ]
  },
  {
   "cell_type": "code",
   "execution_count": 16,
   "id": "b9324bee",
   "metadata": {},
   "outputs": [],
   "source": [
    "retriever = chroma_store.as_retriever(search_kwargs={\"k\": 5})\n"
   ]
  },
  {
   "cell_type": "code",
   "execution_count": 14,
   "id": "9febe7d2",
   "metadata": {},
   "outputs": [
    {
     "name": "stderr",
     "output_type": "stream",
     "text": [
      "C:\\Users\\raavi\\AppData\\Local\\Temp\\ipykernel_19612\\2853504857.py:1: LangChainDeprecationWarning: The method `BaseRetriever.get_relevant_documents` was deprecated in langchain-core 0.1.46 and will be removed in 1.0. Use :meth:`~invoke` instead.\n",
      "  results = retriever.get_relevant_documents(\"Breif The Nationalist Movement in Indo-China? \")\n"
     ]
    }
   ],
   "source": [
    "results = retriever.get_relevant_documents(\"Breif The Nationalist Movement in Indo-China? \")"
   ]
  },
  {
   "cell_type": "code",
   "execution_count": 17,
   "id": "707e096b",
   "metadata": {},
   "outputs": [],
   "source": [
    "results = retriever.invoke(\"what is inertia ?\")"
   ]
  },
  {
   "cell_type": "code",
   "execution_count": 18,
   "id": "c317a999",
   "metadata": {},
   "outputs": [
    {
     "name": "stdout",
     "output_type": "stream",
     "text": [
      "even if we wanted to. Do we have to think about or remember to breathe\n",
      "or digest food? So, in between the simple reflex actions like change in\n",
      "the size of the pupil, and the thought out actions such as moving a\n",
      "chair, there is another set of muscle movements over which we do not\n",
      "have any thinking control. Many of these involuntary actions are\n",
      "controlled by the mid-brain and hind-brain. All these involuntary actions\n",
      "including blood pressure, salivation and vomiting are controlled by the\n",
      "medulla in the hind-brain.\n",
      "Think about activities like walking in a straight line, riding a bicycle,\n",
      "picking up a pencil. These are possible due to a part of the hind-brain\n",
      "called the cerebellum. It is responsible for precision of voluntary actions\n",
      "and maintaining the posture and balance of the body. Imagine what\n",
      "would happen if each of these events failed to take place if we were not\n",
      "thinking about it.\n",
      "Figure 6.3Figure 6.3Figure 6.3Figure 6.3Figure 6.3  Human brain\n",
      "Reprint 2025-26\n",
      "even if we wanted to. Do we have to think about or remember to breathe\n",
      "or digest food? So, in between the simple reflex actions like change in\n",
      "the size of the pupil, and the thought out actions such as moving a\n",
      "chair, there is another set of muscle movements over which we do not\n",
      "have any thinking control. Many of these involuntary actions are\n",
      "controlled by the mid-brain and hind-brain. All these involuntary actions\n",
      "including blood pressure, salivation and vomiting are controlled by the\n",
      "medulla in the hind-brain.\n",
      "Think about activities like walking in a straight line, riding a bicycle,\n",
      "picking up a pencil. These are possible due to a part of the hind-brain\n",
      "called the cerebellum. It is responsible for precision of voluntary actions\n",
      "and maintaining the posture and balance of the body. Imagine what\n",
      "would happen if each of these events failed to take place if we were not\n",
      "thinking about it.\n",
      "Figure 6.3Figure 6.3Figure 6.3Figure 6.3Figure 6.3  Human brain\n",
      "Reprint 2025-26\n",
      "Science100\n",
      "Control and\n",
      "Coordination\n",
      "6CHAPTER\n",
      "I\n",
      "n the previous chapter, we looked at life processes involved in the\n",
      "maintenance functions in living organisms. There, we had started with\n",
      "a notion we all have, that if we see something moving, it is alive. Some of\n",
      "these movements are in fact the result of growth, as in plants. A seed\n",
      "germinates and grows, and we can see that the seedling moves over the\n",
      "course of a few days, it pushes soil aside and comes out. But if its growth\n",
      "were to be stopped, these movements would not happen. Some\n",
      "movements, as in many animals and some plants, are not connected\n",
      "with growth. A cat running, children playing on swings, buffaloes\n",
      "chewing cud – these are not movements caused by growth.\n",
      "Why do we associate such visible movements with life? A possible\n",
      "answer is that we think of movement as a response to a change in the\n",
      "environment of the organism. The cat may be running because it has\n",
      "seen a mouse.  Not only that, we also think of movement as an attempt\n",
      "Science100\n",
      "Control and\n",
      "Coordination\n",
      "6CHAPTER\n",
      "I\n",
      "n the previous chapter, we looked at life processes involved in the\n",
      "maintenance functions in living organisms. There, we had started with\n",
      "a notion we all have, that if we see something moving, it is alive. Some of\n",
      "these movements are in fact the result of growth, as in plants. A seed\n",
      "germinates and grows, and we can see that the seedling moves over the\n",
      "course of a few days, it pushes soil aside and comes out. But if its growth\n",
      "were to be stopped, these movements would not happen. Some\n",
      "movements, as in many animals and some plants, are not connected\n",
      "with growth. A cat running, children playing on swings, buffaloes\n",
      "chewing cud – these are not movements caused by growth.\n",
      "Why do we associate such visible movements with life? A possible\n",
      "answer is that we think of movement as a response to a change in the\n",
      "environment of the organism. The cat may be running because it has\n",
      "seen a mouse.  Not only that, we also think of movement as an attempt\n",
      "Science102\n",
      "6.1.1 What happens in Reflex Actions?\n",
      "‘Reflex’ is a word we use very commonly when we talk about some sudden\n",
      "action in response to something in the environment. We say ‘I jumped\n",
      "out of the way of the bus reflexly’, or ‘I pulled my hand back from the\n",
      "flame reflexly’, or ‘I was so hungry my mouth started watering reflexly’.\n",
      "What exactly do we mean? A common idea in all such examples is that\n",
      "we do something without thinking about it, or without feeling in control\n",
      "of our reactions. Yet these are situations where we are responding with\n",
      "some action to changes in our environment. How is control and\n",
      "coordination achieved in such situations?\n",
      "Let us consider this further. Take one of our examples. Touching a\n",
      "flame is an urgent and dangerous situation for us, or in fact, for any\n",
      "animal! How would we respond to this? One seemingly simple way is to\n",
      "think consciously about the pain and the possibility of getting burnt,\n",
      "and therefore move our hand. An important question then is, how long\n"
     ]
    }
   ],
   "source": [
    "for result in results:\n",
    "    print(result.page_content)\n"
   ]
  },
  {
   "cell_type": "code",
   "execution_count": null,
   "id": "a721dd29",
   "metadata": {},
   "outputs": [
    {
     "name": "stdout",
     "output_type": "stream",
     "text": [
      "Requirement already satisfied: streamlit in c:\\temp\\textbooksrag\\experimentss\\rag_buildling\\.venv\\lib\\site-packages (1.45.0)\n",
      "Requirement already satisfied: altair<6,>=4.0 in c:\\temp\\textbooksrag\\experimentss\\rag_buildling\\.venv\\lib\\site-packages (from streamlit) (5.5.0)\n",
      "Requirement already satisfied: blinker<2,>=1.5.0 in c:\\temp\\textbooksrag\\experimentss\\rag_buildling\\.venv\\lib\\site-packages (from streamlit) (1.9.0)\n",
      "Requirement already satisfied: cachetools<6,>=4.0 in c:\\temp\\textbooksrag\\experimentss\\rag_buildling\\.venv\\lib\\site-packages (from streamlit) (5.5.2)\n",
      "Requirement already satisfied: click<9,>=7.0 in c:\\temp\\textbooksrag\\experimentss\\rag_buildling\\.venv\\lib\\site-packages (from streamlit) (8.1.8)\n",
      "Requirement already satisfied: numpy<3,>=1.23 in c:\\temp\\textbooksrag\\experimentss\\rag_buildling\\.venv\\lib\\site-packages (from streamlit) (2.2.5)\n",
      "Requirement already satisfied: packaging<25,>=20 in c:\\temp\\textbooksrag\\experimentss\\rag_buildling\\.venv\\lib\\site-packages (from streamlit) (24.2)\n",
      "Requirement already satisfied: pandas<3,>=1.4.0 in c:\\temp\\textbooksrag\\experimentss\\rag_buildling\\.venv\\lib\\site-packages (from streamlit) (2.2.3)\n",
      "Requirement already satisfied: pillow<12,>=7.1.0 in c:\\temp\\textbooksrag\\experimentss\\rag_buildling\\.venv\\lib\\site-packages (from streamlit) (11.2.1)\n",
      "Requirement already satisfied: protobuf<7,>=3.20 in c:\\temp\\textbooksrag\\experimentss\\rag_buildling\\.venv\\lib\\site-packages (from streamlit) (5.29.4)\n",
      "Requirement already satisfied: pyarrow>=7.0 in c:\\temp\\textbooksrag\\experimentss\\rag_buildling\\.venv\\lib\\site-packages (from streamlit) (19.0.1)\n",
      "Requirement already satisfied: requests<3,>=2.27 in c:\\temp\\textbooksrag\\experimentss\\rag_buildling\\.venv\\lib\\site-packages (from streamlit) (2.32.3)\n",
      "Requirement already satisfied: tenacity<10,>=8.1.0 in c:\\temp\\textbooksrag\\experimentss\\rag_buildling\\.venv\\lib\\site-packages (from streamlit) (9.1.2)\n",
      "Requirement already satisfied: toml<2,>=0.10.1 in c:\\temp\\textbooksrag\\experimentss\\rag_buildling\\.venv\\lib\\site-packages (from streamlit) (0.10.2)\n",
      "Requirement already satisfied: typing-extensions<5,>=4.4.0 in c:\\temp\\textbooksrag\\experimentss\\rag_buildling\\.venv\\lib\\site-packages (from streamlit) (4.13.2)\n",
      "Requirement already satisfied: watchdog<7,>=2.1.5 in c:\\temp\\textbooksrag\\experimentss\\rag_buildling\\.venv\\lib\\site-packages (from streamlit) (6.0.0)\n",
      "Requirement already satisfied: gitpython!=3.1.19,<4,>=3.0.7 in c:\\temp\\textbooksrag\\experimentss\\rag_buildling\\.venv\\lib\\site-packages (from streamlit) (3.1.44)\n",
      "Requirement already satisfied: pydeck<1,>=0.8.0b4 in c:\\temp\\textbooksrag\\experimentss\\rag_buildling\\.venv\\lib\\site-packages (from streamlit) (0.9.1)\n",
      "Requirement already satisfied: tornado<7,>=6.0.3 in c:\\temp\\textbooksrag\\experimentss\\rag_buildling\\.venv\\lib\\site-packages (from streamlit) (6.4.2)\n",
      "Requirement already satisfied: jinja2 in c:\\temp\\textbooksrag\\experimentss\\rag_buildling\\.venv\\lib\\site-packages (from altair<6,>=4.0->streamlit) (3.1.6)\n",
      "Requirement already satisfied: jsonschema>=3.0 in c:\\temp\\textbooksrag\\experimentss\\rag_buildling\\.venv\\lib\\site-packages (from altair<6,>=4.0->streamlit) (4.23.0)\n",
      "Requirement already satisfied: narwhals>=1.14.2 in c:\\temp\\textbooksrag\\experimentss\\rag_buildling\\.venv\\lib\\site-packages (from altair<6,>=4.0->streamlit) (1.37.1)\n",
      "Requirement already satisfied: colorama in c:\\temp\\textbooksrag\\experimentss\\rag_buildling\\.venv\\lib\\site-packages (from click<9,>=7.0->streamlit) (0.4.6)\n",
      "Requirement already satisfied: gitdb<5,>=4.0.1 in c:\\temp\\textbooksrag\\experimentss\\rag_buildling\\.venv\\lib\\site-packages (from gitpython!=3.1.19,<4,>=3.0.7->streamlit) (4.0.12)\n",
      "Requirement already satisfied: python-dateutil>=2.8.2 in c:\\temp\\textbooksrag\\experimentss\\rag_buildling\\.venv\\lib\\site-packages (from pandas<3,>=1.4.0->streamlit) (2.9.0.post0)\n",
      "Requirement already satisfied: pytz>=2020.1 in c:\\temp\\textbooksrag\\experimentss\\rag_buildling\\.venv\\lib\\site-packages (from pandas<3,>=1.4.0->streamlit) (2025.2)\n",
      "Requirement already satisfied: tzdata>=2022.7 in c:\\temp\\textbooksrag\\experimentss\\rag_buildling\\.venv\\lib\\site-packages (from pandas<3,>=1.4.0->streamlit) (2025.2)\n",
      "Requirement already satisfied: charset-normalizer<4,>=2 in c:\\temp\\textbooksrag\\experimentss\\rag_buildling\\.venv\\lib\\site-packages (from requests<3,>=2.27->streamlit) (3.4.2)\n",
      "Requirement already satisfied: idna<4,>=2.5 in c:\\temp\\textbooksrag\\experimentss\\rag_buildling\\.venv\\lib\\site-packages (from requests<3,>=2.27->streamlit) (3.10)\n",
      "Requirement already satisfied: urllib3<3,>=1.21.1 in c:\\temp\\textbooksrag\\experimentss\\rag_buildling\\.venv\\lib\\site-packages (from requests<3,>=2.27->streamlit) (2.4.0)\n",
      "Requirement already satisfied: certifi>=2017.4.17 in c:\\temp\\textbooksrag\\experimentss\\rag_buildling\\.venv\\lib\\site-packages (from requests<3,>=2.27->streamlit) (2025.4.26)\n",
      "Requirement already satisfied: smmap<6,>=3.0.1 in c:\\temp\\textbooksrag\\experimentss\\rag_buildling\\.venv\\lib\\site-packages (from gitdb<5,>=4.0.1->gitpython!=3.1.19,<4,>=3.0.7->streamlit) (5.0.2)\n",
      "Requirement already satisfied: MarkupSafe>=2.0 in c:\\temp\\textbooksrag\\experimentss\\rag_buildling\\.venv\\lib\\site-packages (from jinja2->altair<6,>=4.0->streamlit) (3.0.2)\n",
      "Requirement already satisfied: attrs>=22.2.0 in c:\\temp\\textbooksrag\\experimentss\\rag_buildling\\.venv\\lib\\site-packages (from jsonschema>=3.0->altair<6,>=4.0->streamlit) (25.3.0)\n",
      "Requirement already satisfied: jsonschema-specifications>=2023.03.6 in c:\\temp\\textbooksrag\\experimentss\\rag_buildling\\.venv\\lib\\site-packages (from jsonschema>=3.0->altair<6,>=4.0->streamlit) (2025.4.1)\n",
      "Requirement already satisfied: referencing>=0.28.4 in c:\\temp\\textbooksrag\\experimentss\\rag_buildling\\.venv\\lib\\site-packages (from jsonschema>=3.0->altair<6,>=4.0->streamlit) (0.36.2)\n",
      "Requirement already satisfied: rpds-py>=0.7.1 in c:\\temp\\textbooksrag\\experimentss\\rag_buildling\\.venv\\lib\\site-packages (from jsonschema>=3.0->altair<6,>=4.0->streamlit) (0.24.0)\n",
      "Requirement already satisfied: six>=1.5 in c:\\temp\\textbooksrag\\experimentss\\rag_buildling\\.venv\\lib\\site-packages (from python-dateutil>=2.8.2->pandas<3,>=1.4.0->streamlit) (1.17.0)\n",
      "Note: you may need to restart the kernel to use updated packages.\n"
     ]
    },
    {
     "name": "stderr",
     "output_type": "stream",
     "text": [
      "\n",
      "[notice] A new release of pip is available: 24.0 -> 25.1.1\n",
      "[notice] To update, run: python.exe -m pip install --upgrade pip\n"
     ]
    }
   ],
   "source": [
    "%pip install streamlit\n"
   ]
  }
 ],
 "metadata": {
  "kernelspec": {
   "display_name": ".venv",
   "language": "python",
   "name": "python3"
  },
  "language_info": {
   "codemirror_mode": {
    "name": "ipython",
    "version": 3
   },
   "file_extension": ".py",
   "mimetype": "text/x-python",
   "name": "python",
   "nbconvert_exporter": "python",
   "pygments_lexer": "ipython3",
   "version": "3.11.9"
  }
 },
 "nbformat": 4,
 "nbformat_minor": 5
}
