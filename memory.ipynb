{
 "cells": [
  {
   "cell_type": "code",
   "execution_count": 6,
   "id": "0c9ff48d",
   "metadata": {},
   "outputs": [],
   "source": [
    "from langchain_google_vertexai import ChatVertexAI\n",
    "\n",
    "\n"
   ]
  },
  {
   "cell_type": "code",
   "execution_count": 7,
   "id": "85b0c43e",
   "metadata": {},
   "outputs": [],
   "source": [
    "from langchain.chains import ConversationChain"
   ]
  },
  {
   "cell_type": "code",
   "execution_count": 8,
   "id": "69ca923d",
   "metadata": {},
   "outputs": [],
   "source": [
    "from langchain.memory import ConversationBufferMemory"
   ]
  },
  {
   "cell_type": "code",
   "execution_count": 9,
   "id": "a174c35c",
   "metadata": {},
   "outputs": [],
   "source": [
    "model_name  = \"gemini-2.0-flash-lite-001\"\n",
    "embeddings_name = \"text-embedding-gecko-005\""
   ]
  },
  {
   "cell_type": "code",
   "execution_count": 10,
   "id": "63dbc5dc",
   "metadata": {},
   "outputs": [],
   "source": [
    "llm = ChatVertexAI(model=model_name,temperature=0.0)"
   ]
  },
  {
   "cell_type": "code",
   "execution_count": 11,
   "id": "f55f8109",
   "metadata": {},
   "outputs": [
    {
     "name": "stderr",
     "output_type": "stream",
     "text": [
      "C:\\Users\\raavi\\AppData\\Local\\Temp\\ipykernel_14676\\995385594.py:1: LangChainDeprecationWarning: Please see the migration guide at: https://python.langchain.com/docs/versions/migrating_memory/\n",
      "  memory = ConversationBufferMemory()\n"
     ]
    }
   ],
   "source": [
    "memory = ConversationBufferMemory()"
   ]
  },
  {
   "cell_type": "code",
   "execution_count": 12,
   "id": "3b79f209",
   "metadata": {},
   "outputs": [
    {
     "name": "stderr",
     "output_type": "stream",
     "text": [
      "C:\\Users\\raavi\\AppData\\Local\\Temp\\ipykernel_14676\\2242087163.py:1: LangChainDeprecationWarning: The class `ConversationChain` was deprecated in LangChain 0.2.7 and will be removed in 1.0. Use :meth:`~RunnableWithMessageHistory: https://python.langchain.com/v0.2/api_reference/core/runnables/langchain_core.runnables.history.RunnableWithMessageHistory.html` instead.\n",
      "  conversation = ConversationChain(\n"
     ]
    }
   ],
   "source": [
    "conversation = ConversationChain(\n",
    "    llm = llm,\n",
    "    memory = memory,\n",
    "    verbose = True\n",
    ")\n"
   ]
  },
  {
   "cell_type": "code",
   "execution_count": 13,
   "id": "a246fe25",
   "metadata": {},
   "outputs": [
    {
     "name": "stdout",
     "output_type": "stream",
     "text": [
      "\n",
      "\n",
      "\u001b[1m> Entering new ConversationChain chain...\u001b[0m\n",
      "Prompt after formatting:\n",
      "\u001b[32;1m\u001b[1;3mThe following is a friendly conversation between a human and an AI. The AI is talkative and provides lots of specific details from its context. If the AI does not know the answer to a question, it truthfully says it does not know.\n",
      "\n",
      "Current conversation:\n",
      "\n",
      "Human: My Name is Venky and I am Learning Generative AI Developement\n",
      "AI:\u001b[0m\n",
      "\n",
      "\u001b[1m> Finished chain.\u001b[0m\n"
     ]
    },
    {
     "data": {
      "text/plain": [
       "'Hello Venky! It\\'s a pleasure to meet you. My name is Bard, and I\\'m thrilled to hear you\\'re diving into the exciting world of Generative AI development! That\\'s a fascinating field, and I\\'m happy to chat with you about it.\\n\\nI can tell you a lot about Generative AI, from the fundamental concepts to the latest advancements. For example, I can explain:\\n\\n*   **What Generative AI is:** It\\'s essentially a type of artificial intelligence that can create new content, such as text, images, audio, and even code. Think of it as AI that can \"imagine\" and then bring those imaginations to life.\\n*   **Different types of Generative AI models:** There are many, including Generative Adversarial Networks (GANs), Variational Autoencoders (VAEs), and Transformers. Each has its strengths and weaknesses, and they\\'re used for different purposes. For instance, GANs are often used for image generation, while Transformers are the backbone of many large language models (LLMs) like me!\\n*   **The applications of Generative AI:** The possibilities are vast! It\\'s used in art and design (creating realistic images, generating music), content creation (writing articles, summarizing text), drug discovery (designing new molecules), and much more.\\n*   **The tools and technologies used in Generative AI development:** This includes programming languages like Python (with libraries like TensorFlow, PyTorch, and Keras), cloud platforms (like Google Cloud, AWS, and Azure), and specialized hardware (like GPUs) for training these complex models.\\n*   **The ethical considerations:** It\\'s important to be aware of the potential biases in the data used to train these models, the potential for misuse (like creating deepfakes), and the impact on jobs and society.\\n\\nI\\'m ready to answer any questions you have, Venky. What specifically are you interested in learning about Generative AI development? Are you curious about a particular model, application, or tool? Let me know, and I\\'ll do my best to provide you with helpful information! I\\'m eager to help you on your learning journey.\\n'"
      ]
     },
     "execution_count": 13,
     "metadata": {},
     "output_type": "execute_result"
    }
   ],
   "source": [
    "conversation.predict(input=\"My Name is Venky and I am Learning Generative AI Developement\")"
   ]
  },
  {
   "cell_type": "code",
   "execution_count": 14,
   "id": "ef873466",
   "metadata": {},
   "outputs": [
    {
     "name": "stdout",
     "output_type": "stream",
     "text": [
      "\n",
      "\n",
      "\u001b[1m> Entering new ConversationChain chain...\u001b[0m\n",
      "Prompt after formatting:\n",
      "\u001b[32;1m\u001b[1;3mThe following is a friendly conversation between a human and an AI. The AI is talkative and provides lots of specific details from its context. If the AI does not know the answer to a question, it truthfully says it does not know.\n",
      "\n",
      "Current conversation:\n",
      "Human: My Name is Venky and I am Learning Generative AI Developement\n",
      "AI: Hello Venky! It's a pleasure to meet you. My name is Bard, and I'm thrilled to hear you're diving into the exciting world of Generative AI development! That's a fascinating field, and I'm happy to chat with you about it.\n",
      "\n",
      "I can tell you a lot about Generative AI, from the fundamental concepts to the latest advancements. For example, I can explain:\n",
      "\n",
      "*   **What Generative AI is:** It's essentially a type of artificial intelligence that can create new content, such as text, images, audio, and even code. Think of it as AI that can \"imagine\" and then bring those imaginations to life.\n",
      "*   **Different types of Generative AI models:** There are many, including Generative Adversarial Networks (GANs), Variational Autoencoders (VAEs), and Transformers. Each has its strengths and weaknesses, and they're used for different purposes. For instance, GANs are often used for image generation, while Transformers are the backbone of many large language models (LLMs) like me!\n",
      "*   **The applications of Generative AI:** The possibilities are vast! It's used in art and design (creating realistic images, generating music), content creation (writing articles, summarizing text), drug discovery (designing new molecules), and much more.\n",
      "*   **The tools and technologies used in Generative AI development:** This includes programming languages like Python (with libraries like TensorFlow, PyTorch, and Keras), cloud platforms (like Google Cloud, AWS, and Azure), and specialized hardware (like GPUs) for training these complex models.\n",
      "*   **The ethical considerations:** It's important to be aware of the potential biases in the data used to train these models, the potential for misuse (like creating deepfakes), and the impact on jobs and society.\n",
      "\n",
      "I'm ready to answer any questions you have, Venky. What specifically are you interested in learning about Generative AI development? Are you curious about a particular model, application, or tool? Let me know, and I'll do my best to provide you with helpful information! I'm eager to help you on your learning journey.\n",
      "\n",
      "Human: What is captial of India\n",
      "AI:\u001b[0m\n",
      "\n",
      "\u001b[1m> Finished chain.\u001b[0m\n"
     ]
    },
    {
     "data": {
      "text/plain": [
       "\"The capital of India is New Delhi. It's a bustling city with a rich history, serving as the seat of the Indian government and a major hub for culture, commerce, and transportation. It's located in the National Capital Territory of Delhi, and it's known for its historical landmarks like India Gate, Humayun's Tomb, and Qutub Minar, as well as its modern infrastructure and vibrant atmosphere.\\n\""
      ]
     },
     "execution_count": 14,
     "metadata": {},
     "output_type": "execute_result"
    }
   ],
   "source": [
    "conversation.predict(input=\"What is captial of India\")"
   ]
  },
  {
   "cell_type": "code",
   "execution_count": 15,
   "id": "f5f31cab",
   "metadata": {},
   "outputs": [
    {
     "name": "stdout",
     "output_type": "stream",
     "text": [
      "\n",
      "\n",
      "\u001b[1m> Entering new ConversationChain chain...\u001b[0m\n",
      "Prompt after formatting:\n",
      "\u001b[32;1m\u001b[1;3mThe following is a friendly conversation between a human and an AI. The AI is talkative and provides lots of specific details from its context. If the AI does not know the answer to a question, it truthfully says it does not know.\n",
      "\n",
      "Current conversation:\n",
      "Human: My Name is Venky and I am Learning Generative AI Developement\n",
      "AI: Hello Venky! It's a pleasure to meet you. My name is Bard, and I'm thrilled to hear you're diving into the exciting world of Generative AI development! That's a fascinating field, and I'm happy to chat with you about it.\n",
      "\n",
      "I can tell you a lot about Generative AI, from the fundamental concepts to the latest advancements. For example, I can explain:\n",
      "\n",
      "*   **What Generative AI is:** It's essentially a type of artificial intelligence that can create new content, such as text, images, audio, and even code. Think of it as AI that can \"imagine\" and then bring those imaginations to life.\n",
      "*   **Different types of Generative AI models:** There are many, including Generative Adversarial Networks (GANs), Variational Autoencoders (VAEs), and Transformers. Each has its strengths and weaknesses, and they're used for different purposes. For instance, GANs are often used for image generation, while Transformers are the backbone of many large language models (LLMs) like me!\n",
      "*   **The applications of Generative AI:** The possibilities are vast! It's used in art and design (creating realistic images, generating music), content creation (writing articles, summarizing text), drug discovery (designing new molecules), and much more.\n",
      "*   **The tools and technologies used in Generative AI development:** This includes programming languages like Python (with libraries like TensorFlow, PyTorch, and Keras), cloud platforms (like Google Cloud, AWS, and Azure), and specialized hardware (like GPUs) for training these complex models.\n",
      "*   **The ethical considerations:** It's important to be aware of the potential biases in the data used to train these models, the potential for misuse (like creating deepfakes), and the impact on jobs and society.\n",
      "\n",
      "I'm ready to answer any questions you have, Venky. What specifically are you interested in learning about Generative AI development? Are you curious about a particular model, application, or tool? Let me know, and I'll do my best to provide you with helpful information! I'm eager to help you on your learning journey.\n",
      "\n",
      "Human: What is captial of India\n",
      "AI: The capital of India is New Delhi. It's a bustling city with a rich history, serving as the seat of the Indian government and a major hub for culture, commerce, and transportation. It's located in the National Capital Territory of Delhi, and it's known for its historical landmarks like India Gate, Humayun's Tomb, and Qutub Minar, as well as its modern infrastructure and vibrant atmosphere.\n",
      "\n",
      "Human: What is my name?\n",
      "AI:\u001b[0m\n",
      "\n",
      "\u001b[1m> Finished chain.\u001b[0m\n"
     ]
    },
    {
     "data": {
      "text/plain": [
       "'Your name is Venky! It\\'s nice to \"know\" you, Venky. I remember you told me that at the beginning of our conversation. I\\'m glad I could recall that information for you.\\n'"
      ]
     },
     "execution_count": 15,
     "metadata": {},
     "output_type": "execute_result"
    }
   ],
   "source": [
    "conversation.predict(input=\"What is my name?\")"
   ]
  },
  {
   "cell_type": "code",
   "execution_count": 16,
   "id": "0cfa4994",
   "metadata": {},
   "outputs": [
    {
     "name": "stdout",
     "output_type": "stream",
     "text": [
      "Human: My Name is Venky and I am Learning Generative AI Developement\n",
      "AI: Hello Venky! It's a pleasure to meet you. My name is Bard, and I'm thrilled to hear you're diving into the exciting world of Generative AI development! That's a fascinating field, and I'm happy to chat with you about it.\n",
      "\n",
      "I can tell you a lot about Generative AI, from the fundamental concepts to the latest advancements. For example, I can explain:\n",
      "\n",
      "*   **What Generative AI is:** It's essentially a type of artificial intelligence that can create new content, such as text, images, audio, and even code. Think of it as AI that can \"imagine\" and then bring those imaginations to life.\n",
      "*   **Different types of Generative AI models:** There are many, including Generative Adversarial Networks (GANs), Variational Autoencoders (VAEs), and Transformers. Each has its strengths and weaknesses, and they're used for different purposes. For instance, GANs are often used for image generation, while Transformers are the backbone of many large language models (LLMs) like me!\n",
      "*   **The applications of Generative AI:** The possibilities are vast! It's used in art and design (creating realistic images, generating music), content creation (writing articles, summarizing text), drug discovery (designing new molecules), and much more.\n",
      "*   **The tools and technologies used in Generative AI development:** This includes programming languages like Python (with libraries like TensorFlow, PyTorch, and Keras), cloud platforms (like Google Cloud, AWS, and Azure), and specialized hardware (like GPUs) for training these complex models.\n",
      "*   **The ethical considerations:** It's important to be aware of the potential biases in the data used to train these models, the potential for misuse (like creating deepfakes), and the impact on jobs and society.\n",
      "\n",
      "I'm ready to answer any questions you have, Venky. What specifically are you interested in learning about Generative AI development? Are you curious about a particular model, application, or tool? Let me know, and I'll do my best to provide you with helpful information! I'm eager to help you on your learning journey.\n",
      "\n",
      "Human: What is captial of India\n",
      "AI: The capital of India is New Delhi. It's a bustling city with a rich history, serving as the seat of the Indian government and a major hub for culture, commerce, and transportation. It's located in the National Capital Territory of Delhi, and it's known for its historical landmarks like India Gate, Humayun's Tomb, and Qutub Minar, as well as its modern infrastructure and vibrant atmosphere.\n",
      "\n",
      "Human: What is my name?\n",
      "AI: Your name is Venky! It's nice to \"know\" you, Venky. I remember you told me that at the beginning of our conversation. I'm glad I could recall that information for you.\n",
      "\n"
     ]
    }
   ],
   "source": [
    "\n",
    "print(memory.buffer)"
   ]
  },
  {
   "cell_type": "code",
   "execution_count": 17,
   "id": "fd403551",
   "metadata": {},
   "outputs": [
    {
     "data": {
      "text/plain": [
       "{'history': 'Human: My Name is Venky and I am Learning Generative AI Developement\\nAI: Hello Venky! It\\'s a pleasure to meet you. My name is Bard, and I\\'m thrilled to hear you\\'re diving into the exciting world of Generative AI development! That\\'s a fascinating field, and I\\'m happy to chat with you about it.\\n\\nI can tell you a lot about Generative AI, from the fundamental concepts to the latest advancements. For example, I can explain:\\n\\n*   **What Generative AI is:** It\\'s essentially a type of artificial intelligence that can create new content, such as text, images, audio, and even code. Think of it as AI that can \"imagine\" and then bring those imaginations to life.\\n*   **Different types of Generative AI models:** There are many, including Generative Adversarial Networks (GANs), Variational Autoencoders (VAEs), and Transformers. Each has its strengths and weaknesses, and they\\'re used for different purposes. For instance, GANs are often used for image generation, while Transformers are the backbone of many large language models (LLMs) like me!\\n*   **The applications of Generative AI:** The possibilities are vast! It\\'s used in art and design (creating realistic images, generating music), content creation (writing articles, summarizing text), drug discovery (designing new molecules), and much more.\\n*   **The tools and technologies used in Generative AI development:** This includes programming languages like Python (with libraries like TensorFlow, PyTorch, and Keras), cloud platforms (like Google Cloud, AWS, and Azure), and specialized hardware (like GPUs) for training these complex models.\\n*   **The ethical considerations:** It\\'s important to be aware of the potential biases in the data used to train these models, the potential for misuse (like creating deepfakes), and the impact on jobs and society.\\n\\nI\\'m ready to answer any questions you have, Venky. What specifically are you interested in learning about Generative AI development? Are you curious about a particular model, application, or tool? Let me know, and I\\'ll do my best to provide you with helpful information! I\\'m eager to help you on your learning journey.\\n\\nHuman: What is captial of India\\nAI: The capital of India is New Delhi. It\\'s a bustling city with a rich history, serving as the seat of the Indian government and a major hub for culture, commerce, and transportation. It\\'s located in the National Capital Territory of Delhi, and it\\'s known for its historical landmarks like India Gate, Humayun\\'s Tomb, and Qutub Minar, as well as its modern infrastructure and vibrant atmosphere.\\n\\nHuman: What is my name?\\nAI: Your name is Venky! It\\'s nice to \"know\" you, Venky. I remember you told me that at the beginning of our conversation. I\\'m glad I could recall that information for you.\\n'}"
      ]
     },
     "execution_count": 17,
     "metadata": {},
     "output_type": "execute_result"
    }
   ],
   "source": [
    "memory.load_memory_variables({})"
   ]
  },
  {
   "cell_type": "code",
   "execution_count": 18,
   "id": "9ab3a368",
   "metadata": {},
   "outputs": [],
   "source": [
    "\n",
    "# We can create memory\n",
    "memory = ConversationBufferMemory()"
   ]
  },
  {
   "cell_type": "code",
   "execution_count": 23,
   "id": "08fbd2cc",
   "metadata": {},
   "outputs": [],
   "source": [
    "memory.save_context(\n",
    "    { \"input\": \"Hi, my name is venky\" },\n",
    "    {\"output\": \"Whats up\"}\n",
    ")\n"
   ]
  },
  {
   "cell_type": "code",
   "execution_count": 24,
   "id": "01f561f0",
   "metadata": {},
   "outputs": [
    {
     "data": {
      "text/plain": [
       "'Human: Hi, my name is khaja\\nAI: Whats up\\nHuman: Hi, my name is venky\\nAI: Whats up\\nHuman: Hi, my name is venky\\nAI: Whats up'"
      ]
     },
     "execution_count": 24,
     "metadata": {},
     "output_type": "execute_result"
    }
   ],
   "source": [
    "\n",
    "memory.buffer"
   ]
  },
  {
   "cell_type": "code",
   "execution_count": 25,
   "id": "a281662a",
   "metadata": {},
   "outputs": [
    {
     "data": {
      "text/plain": [
       "{'history': 'Human: Hi, my name is khaja\\nAI: Whats up\\nHuman: Hi, my name is venky\\nAI: Whats up\\nHuman: Hi, my name is venky\\nAI: Whats up'}"
      ]
     },
     "execution_count": 25,
     "metadata": {},
     "output_type": "execute_result"
    }
   ],
   "source": [
    "memory.load_memory_variables({})"
   ]
  },
  {
   "cell_type": "markdown",
   "id": "ffd48e76",
   "metadata": {},
   "source": [
    "# ConversationBufferWindowMemory"
   ]
  },
  {
   "cell_type": "code",
   "execution_count": 26,
   "id": "7d5e3834",
   "metadata": {},
   "outputs": [],
   "source": [
    "from langchain.memory import ConversationBufferWindowMemory"
   ]
  },
  {
   "cell_type": "code",
   "execution_count": 27,
   "id": "1197bf86",
   "metadata": {},
   "outputs": [
    {
     "name": "stderr",
     "output_type": "stream",
     "text": [
      "C:\\Users\\raavi\\AppData\\Local\\Temp\\ipykernel_14676\\3135384584.py:1: LangChainDeprecationWarning: Please see the migration guide at: https://python.langchain.com/docs/versions/migrating_memory/\n",
      "  memory = ConversationBufferWindowMemory(k=1)\n"
     ]
    }
   ],
   "source": [
    "memory = ConversationBufferWindowMemory(k=1)"
   ]
  },
  {
   "cell_type": "code",
   "execution_count": 28,
   "id": "f45880e1",
   "metadata": {},
   "outputs": [],
   "source": [
    "memory.save_context(\n",
    "    { \"input\": \"Hi, my name is Venky\" },\n",
    "    {\"output\": \"Whats up\"}\n",
    ")\n"
   ]
  },
  {
   "cell_type": "code",
   "execution_count": 29,
   "id": "2a8280fe",
   "metadata": {},
   "outputs": [],
   "source": [
    "memory.save_context(\n",
    "    { \"input\": \"Nothing much just routine work\"},\n",
    "    {\"output\": \"Life sucks\"}\n",
    ")"
   ]
  },
  {
   "cell_type": "code",
   "execution_count": 30,
   "id": "fa5f9eb4",
   "metadata": {},
   "outputs": [
    {
     "data": {
      "text/plain": [
       "{'history': 'Human: Nothing much just routine work\\nAI: Life sucks'}"
      ]
     },
     "execution_count": 30,
     "metadata": {},
     "output_type": "execute_result"
    }
   ],
   "source": [
    "memory.load_memory_variables({})"
   ]
  },
  {
   "cell_type": "code",
   "execution_count": 31,
   "id": "6732ab38",
   "metadata": {},
   "outputs": [],
   "source": [
    "llm = ChatVertexAI(temperature=0.0, model = model_name)\n",
    "memory = ConversationBufferWindowMemory(k=1)\n",
    "conversation = ConversationChain(\n",
    "    llm = llm,\n",
    "    memory = memory,\n",
    "    verbose = False\n",
    ")\n"
   ]
  },
  {
   "cell_type": "code",
   "execution_count": 32,
   "id": "9dfbfa51",
   "metadata": {},
   "outputs": [
    {
     "data": {
      "text/plain": [
       "'Hello Venky! It\\'s a pleasure to meet you. My name is Bard, and I\\'m thrilled to hear you\\'re diving into Generative AI development! That\\'s a fascinating and rapidly evolving field. I can certainly help you with your learning journey.\\n\\nSince you\\'re just starting, let\\'s talk about some foundational concepts. Generative AI, at its core, is about creating new content – text, images, audio, video, even code – based on the patterns it learns from existing data. Think of it like teaching a student to write essays by having them read thousands of essays first. The student (the AI model) then learns the structure, style, and vocabulary to generate its own, original essays.\\n\\nHere are some key areas you\\'ll likely encounter:\\n\\n*   **Models:** These are the core of generative AI. They are complex mathematical structures, often based on neural networks, that are trained on massive datasets. Some popular model types include:\\n    *   **Large Language Models (LLMs):** These are trained on vast amounts of text data and excel at generating human-like text, translating languages, answering questions, and writing different kinds of creative content. Examples include models like GPT-3, GPT-4, LaMDA, and PaLM.\\n    *   **Diffusion Models:** These models are particularly good at generating high-quality images. They work by gradually adding noise to an image and then learning to reverse that process, effectively \"denoising\" the noise back into a coherent image. Examples include Stable Diffusion, DALL-E 2, and Midjourney.\\n    *   **Generative Adversarial Networks (GANs):** These models use two neural networks, a generator and a discriminator, that compete against each other. The generator tries to create realistic content, while the discriminator tries to distinguish between real and generated content. This adversarial process leads to increasingly realistic outputs.\\n*   **Training Data:** The quality and quantity of the data used to train a model are crucial. This data can be text, images, audio, or any other type of data that the model is designed to generate. The more diverse and representative the data, the better the model\\'s performance.\\n*   **Prompt Engineering:** This is the art of crafting effective prompts to guide the model\\'s output. The way you phrase your request significantly impacts the results you get. For example, instead of just asking \"Write a poem,\" you might say \"Write a haiku about the ocean in the style of Basho.\"\\n*   **Fine-tuning:** This involves taking a pre-trained model and further training it on a smaller, more specific dataset to tailor it to a particular task or domain. This can improve the model\\'s performance on a specific task.\\n*   **Evaluation Metrics:** These are used to assess the quality of the generated content. Different metrics are used for different types of content. For example, for text generation, metrics like perplexity, BLEU score, and ROUGE are often used. For image generation, metrics like the Inception Score (IS) and Fréchet Inception Distance (FID) are common.\\n*   **Applications:** Generative AI is being used in a wide range of applications, including:\\n    *   **Content creation:** Writing articles, generating social media posts, creating marketing materials.\\n    *   **Image and video generation:** Creating realistic images, generating animations, editing videos.\\n    *   **Code generation:** Writing code, debugging code, and automating software development tasks.\\n    *   **Drug discovery:** Designing new drugs and predicting their effectiveness.\\n    *   **Personalized medicine:** Tailoring treatments to individual patients.\\n    *   **Entertainment:** Creating games, music, and interactive experiences.\\n\\nI can help you with any of these topics. Do you have any specific areas you\\'d like to explore first? Perhaps you\\'re interested in a particular type of model, a specific application, or a programming language commonly used in generative AI development (like Python)? Let me know what sparks your interest, and we can dive deeper! I\\'m ready when you are, Venky!\\n'"
      ]
     },
     "execution_count": 32,
     "metadata": {},
     "output_type": "execute_result"
    }
   ],
   "source": [
    "conversation.predict(input=\"My Name is Venky and I am Learning Generative AI Developement\")\n"
   ]
  },
  {
   "cell_type": "code",
   "execution_count": 33,
   "id": "eedd76b0",
   "metadata": {},
   "outputs": [
    {
     "data": {
      "text/plain": [
       "\"That's a great question, Venky! While I don't have access to a specific age for when Isaac Newton discovered calculus, I can tell you some relevant information.\\n\\nIsaac Newton developed calculus in the mid-1660s. He was a student at the University of Cambridge at the time, and he was likely in his early to mid-20s when he made his groundbreaking discoveries. He was born in 1643, so he would have been in his early twenties when he started developing calculus.\\n\\nIt's important to note that the development of calculus was a gradual process, and Newton continued to refine his ideas over several years. He didn't publish his work immediately, and there was some controversy later on with Gottfried Wilhelm Leibniz, who also developed calculus independently.\\n\\nSo, while I can't give you an exact age, I can tell you that Newton was likely in his early to mid-20s when he made his fundamental contributions to the field of calculus.\\n\""
      ]
     },
     "execution_count": 33,
     "metadata": {},
     "output_type": "execute_result"
    }
   ],
   "source": [
    "conversation.predict(input=\"At what age did newton discover calculus\")"
   ]
  },
  {
   "cell_type": "code",
   "execution_count": 34,
   "id": "16b3abbb",
   "metadata": {},
   "outputs": [
    {
     "data": {
      "text/plain": [
       "'I do not have access to your name, Venky. As a large language model, I do not retain personal information from previous conversations.\\n'"
      ]
     },
     "execution_count": 34,
     "metadata": {},
     "output_type": "execute_result"
    }
   ],
   "source": [
    "conversation.predict(input=\"What is my Name ?\")"
   ]
  },
  {
   "cell_type": "code",
   "execution_count": 35,
   "id": "dc9f8330",
   "metadata": {},
   "outputs": [
    {
     "name": "stdout",
     "output_type": "stream",
     "text": [
      "Collecting tiktoken\n",
      "  Using cached tiktoken-0.9.0-cp311-cp311-win_amd64.whl.metadata (6.8 kB)\n",
      "Collecting regex>=2022.1.18 (from tiktoken)\n",
      "  Using cached regex-2024.11.6-cp311-cp311-win_amd64.whl.metadata (41 kB)\n",
      "Requirement already satisfied: requests>=2.26.0 in c:\\temp\\textbooksrag\\experimentss\\rag_buildling\\.venv\\lib\\site-packages (from tiktoken) (2.32.3)\n",
      "Requirement already satisfied: charset-normalizer<4,>=2 in c:\\temp\\textbooksrag\\experimentss\\rag_buildling\\.venv\\lib\\site-packages (from requests>=2.26.0->tiktoken) (3.4.2)\n",
      "Requirement already satisfied: idna<4,>=2.5 in c:\\temp\\textbooksrag\\experimentss\\rag_buildling\\.venv\\lib\\site-packages (from requests>=2.26.0->tiktoken) (3.10)\n",
      "Requirement already satisfied: urllib3<3,>=1.21.1 in c:\\temp\\textbooksrag\\experimentss\\rag_buildling\\.venv\\lib\\site-packages (from requests>=2.26.0->tiktoken) (2.4.0)\n",
      "Requirement already satisfied: certifi>=2017.4.17 in c:\\temp\\textbooksrag\\experimentss\\rag_buildling\\.venv\\lib\\site-packages (from requests>=2.26.0->tiktoken) (2025.4.26)\n",
      "Using cached tiktoken-0.9.0-cp311-cp311-win_amd64.whl (893 kB)\n",
      "Using cached regex-2024.11.6-cp311-cp311-win_amd64.whl (274 kB)\n",
      "Installing collected packages: regex, tiktoken\n",
      "Successfully installed regex-2024.11.6 tiktoken-0.9.0\n",
      "Note: you may need to restart the kernel to use updated packages.\n"
     ]
    },
    {
     "name": "stderr",
     "output_type": "stream",
     "text": [
      "\n",
      "[notice] A new release of pip is available: 24.0 -> 25.1.1\n",
      "[notice] To update, run: python.exe -m pip install --upgrade pip\n"
     ]
    }
   ],
   "source": [
    "%pip install tiktoken"
   ]
  },
  {
   "cell_type": "markdown",
   "id": "7c6af806",
   "metadata": {},
   "source": [
    "# ConversationTokenBufferMemory"
   ]
  },
  {
   "cell_type": "code",
   "execution_count": 36,
   "id": "3eb010c0",
   "metadata": {},
   "outputs": [],
   "source": [
    "\n",
    "from langchain.memory import ConversationTokenBufferMemory"
   ]
  },
  {
   "cell_type": "code",
   "execution_count": 37,
   "id": "8d2c6f05",
   "metadata": {},
   "outputs": [
    {
     "name": "stderr",
     "output_type": "stream",
     "text": [
      "C:\\Users\\raavi\\AppData\\Local\\Temp\\ipykernel_14676\\2917393619.py:2: LangChainDeprecationWarning: Please see the migration guide at: https://python.langchain.com/docs/versions/migrating_memory/\n",
      "  memory = ConversationTokenBufferMemory(llm = llm, max_token_limit=10)\n"
     ]
    }
   ],
   "source": [
    "llm = ChatVertexAI(temperature=0.0, model = model_name)\n",
    "memory = ConversationTokenBufferMemory(llm = llm, max_token_limit=10)\n",
    "conversation = ConversationChain(\n",
    "    llm = llm,\n",
    "    memory = memory,\n",
    "    verbose = True\n",
    ")"
   ]
  },
  {
   "cell_type": "code",
   "execution_count": 38,
   "id": "51fcdbf6",
   "metadata": {},
   "outputs": [],
   "source": [
    "memory.save_context({\"input\": \"What is AI ?\"}, {\"output\": \"Wonderful\"})\n",
    "memory.save_context({\"input\": \"What is ML ?\"}, {\"output\": \"Awesome\"})\n",
    "memory.save_context({\"input\": \"What are chatbots ?\"}, {\"output\": \"Great\"})\n",
    "memory.save_context({\"input\": \"What are agents ?\"}, {\"output\": \"All of the above\"})"
   ]
  },
  {
   "cell_type": "code",
   "execution_count": 39,
   "id": "1f3a02f0",
   "metadata": {},
   "outputs": [
    {
     "data": {
      "text/plain": [
       "{'history': 'AI: All of the above'}"
      ]
     },
     "execution_count": 39,
     "metadata": {},
     "output_type": "execute_result"
    }
   ],
   "source": [
    "memory.load_memory_variables({})"
   ]
  },
  {
   "cell_type": "markdown",
   "id": "6f6f08cf",
   "metadata": {},
   "source": [
    "# conversationSummaryBufferMemory"
   ]
  },
  {
   "cell_type": "code",
   "execution_count": 40,
   "id": "f88e22ef",
   "metadata": {},
   "outputs": [],
   "source": [
    "from langchain.memory import ConversationSummaryBufferMemory"
   ]
  },
  {
   "cell_type": "code",
   "execution_count": 41,
   "id": "ebc0c93d",
   "metadata": {},
   "outputs": [],
   "source": [
    "long_text = \"\"\"Isaac Newton’s Key Inventions\n",
    "Isaac Newton is best known for his groundbreaking discoveries in physics and mathematics, but he also made significant inventions and practical contributions to science and technology. Here are his most notable inventions:\n",
    "\n",
    "Reflecting Telescope (Newtonian Telescope)\n",
    "\n",
    "Newton invented the first practical reflecting telescope in 1668, using a curved mirror instead of lenses to focus light. This design, known as the Newtonian telescope, solved the problem of chromatic aberration found in refracting telescopes and is still widely used today.\n",
    "\n",
    "The Perfect Coin\n",
    "\n",
    "As Warden of the Royal Mint, Newton introduced milled edges to coins to prevent clipping and counterfeiting, greatly improving the quality and security of English currency.\n",
    "\n",
    "Major Scientific Discoveries and Innovations\n",
    "While not all are \"inventions\" in the mechanical sense, Newton’s theoretical breakthroughs fundamentally changed science:\n",
    "\n",
    "Three Laws of Motion: Formulated the foundational principles of classical mechanics.\n",
    "\n",
    "Law of Universal Gravitation: Described the gravitational force acting between all masses.\n",
    "\n",
    "Calculus: Independently developed the mathematical system of calculus (called \"the method of fluxions\"), enabling precise analysis of change and motion.\n",
    "\n",
    "Binomial Theorem: Generalized the binomial theorem to include negative and fractional exponents.\n",
    "\n",
    "Newton-Raphson Method: Developed an iterative numerical method for finding roots of equations.\n",
    "\n",
    "Optics: Demonstrated that white light is composed of different colors, using prisms to show the spectrum and laying the foundation for modern optics.\n",
    "\n",
    "Empirical Law of Cooling: Formulated the first law of heat transfer, now fundamental in thermodynamics.\n",
    "\n",
    "First Calculation of Speed of Sound: Provided the first theoretical calculation of the speed of sound in air.\n",
    "\"\"\""
   ]
  },
  {
   "cell_type": "code",
   "execution_count": 42,
   "id": "f7aef171",
   "metadata": {},
   "outputs": [
    {
     "name": "stderr",
     "output_type": "stream",
     "text": [
      "C:\\Users\\raavi\\AppData\\Local\\Temp\\ipykernel_14676\\1457324261.py:1: LangChainDeprecationWarning: Please see the migration guide at: https://python.langchain.com/docs/versions/migrating_memory/\n",
      "  memory = ConversationSummaryBufferMemory(llm=llm, max_token_Limit =100)\n"
     ]
    }
   ],
   "source": [
    "memory = ConversationSummaryBufferMemory(llm=llm, max_token_Limit =100)"
   ]
  },
  {
   "cell_type": "code",
   "execution_count": 43,
   "id": "613ea274",
   "metadata": {},
   "outputs": [],
   "source": [
    "memory.save_context(\n",
    "    {\"input\": \"Hello\"},\n",
    "    {\"output\": \"Whats going on\"})\n"
   ]
  },
  {
   "cell_type": "code",
   "execution_count": 44,
   "id": "a70f64f5",
   "metadata": {},
   "outputs": [],
   "source": [
    "memory.save_context(\n",
    "    {\"input\": \"Learning about Newton\"},\n",
    "    {\"output\": \"Great what did you found ?\"})"
   ]
  },
  {
   "cell_type": "code",
   "execution_count": 45,
   "id": "b569165b",
   "metadata": {},
   "outputs": [
    {
     "data": {
      "text/plain": [
       "{'history': 'Human: Hello\\nAI: Whats going on\\nHuman: Learning about Newton\\nAI: Great what did you found ?'}"
      ]
     },
     "execution_count": 45,
     "metadata": {},
     "output_type": "execute_result"
    }
   ],
   "source": [
    "memory.load_memory_variables({})"
   ]
  },
  {
   "cell_type": "code",
   "execution_count": 46,
   "id": "2ded3fad",
   "metadata": {},
   "outputs": [],
   "source": [
    "memory.save_context(\n",
    "    {\"input\": \"what do you know about Newton\"},\n",
    "    {\"output\": f\"{long_text}\"})"
   ]
  },
  {
   "cell_type": "code",
   "execution_count": 47,
   "id": "5519c2d2",
   "metadata": {},
   "outputs": [
    {
     "data": {
      "text/plain": [
       "{'history': 'Human: Hello\\nAI: Whats going on\\nHuman: Learning about Newton\\nAI: Great what did you found ?\\nHuman: what do you know about Newton\\nAI: Isaac Newton’s Key Inventions\\nIsaac Newton is best known for his groundbreaking discoveries in physics and mathematics, but he also made significant inventions and practical contributions to science and technology. Here are his most notable inventions:\\n\\nReflecting Telescope (Newtonian Telescope)\\n\\nNewton invented the first practical reflecting telescope in 1668, using a curved mirror instead of lenses to focus light. This design, known as the Newtonian telescope, solved the problem of chromatic aberration found in refracting telescopes and is still widely used today.\\n\\nThe Perfect Coin\\n\\nAs Warden of the Royal Mint, Newton introduced milled edges to coins to prevent clipping and counterfeiting, greatly improving the quality and security of English currency.\\n\\nMajor Scientific Discoveries and Innovations\\nWhile not all are \"inventions\" in the mechanical sense, Newton’s theoretical breakthroughs fundamentally changed science:\\n\\nThree Laws of Motion: Formulated the foundational principles of classical mechanics.\\n\\nLaw of Universal Gravitation: Described the gravitational force acting between all masses.\\n\\nCalculus: Independently developed the mathematical system of calculus (called \"the method of fluxions\"), enabling precise analysis of change and motion.\\n\\nBinomial Theorem: Generalized the binomial theorem to include negative and fractional exponents.\\n\\nNewton-Raphson Method: Developed an iterative numerical method for finding roots of equations.\\n\\nOptics: Demonstrated that white light is composed of different colors, using prisms to show the spectrum and laying the foundation for modern optics.\\n\\nEmpirical Law of Cooling: Formulated the first law of heat transfer, now fundamental in thermodynamics.\\n\\nFirst Calculation of Speed of Sound: Provided the first theoretical calculation of the speed of sound in air.\\n'}"
      ]
     },
     "execution_count": 47,
     "metadata": {},
     "output_type": "execute_result"
    }
   ],
   "source": [
    "memory.load_memory_variables({})"
   ]
  },
  {
   "cell_type": "code",
   "execution_count": null,
   "id": "69c5e0d7",
   "metadata": {},
   "outputs": [],
   "source": [
    "from langchain.memory import ConversationVectorStoreTokenBufferMemory"
   ]
  }
 ],
 "metadata": {
  "kernelspec": {
   "display_name": ".venv",
   "language": "python",
   "name": "python3"
  },
  "language_info": {
   "codemirror_mode": {
    "name": "ipython",
    "version": 3
   },
   "file_extension": ".py",
   "mimetype": "text/x-python",
   "name": "python",
   "nbconvert_exporter": "python",
   "pygments_lexer": "ipython3",
   "version": "3.11.9"
  }
 },
 "nbformat": 4,
 "nbformat_minor": 5
}
