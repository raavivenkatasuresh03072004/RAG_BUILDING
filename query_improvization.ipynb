{
 "cells": [
  {
   "cell_type": "code",
   "execution_count": 3,
   "id": "ac788b93",
   "metadata": {},
   "outputs": [],
   "source": [
    "from langchain_google_vertexai import VertexAIEmbeddings"
   ]
  },
  {
   "cell_type": "code",
   "execution_count": 4,
   "id": "cea1b808",
   "metadata": {},
   "outputs": [],
   "source": [
    "from langchain.vectorstores import Chroma"
   ]
  },
  {
   "cell_type": "code",
   "execution_count": 5,
   "id": "84788d32",
   "metadata": {},
   "outputs": [],
   "source": [
    "from langchain.chat_models import init_chat_model\n",
    "\n",
    "model = init_chat_model(\"gemini-2.0-flash-001\", model_provider=\"google_vertexai\")"
   ]
  },
  {
   "cell_type": "code",
   "execution_count": 12,
   "id": "05cb4ffd",
   "metadata": {},
   "outputs": [],
   "source": [
    "question = \"hello venkat, what is meant by Science\""
   ]
  },
  {
   "cell_type": "code",
   "execution_count": 17,
   "id": "26f423bb",
   "metadata": {},
   "outputs": [],
   "source": [
    "from langchain_core.prompts import PromptTemplate"
   ]
  },
  {
   "cell_type": "code",
   "execution_count": 18,
   "id": "a2af140f",
   "metadata": {},
   "outputs": [],
   "source": [
    "\n",
    "template = \"\"\"Improvise the following question {question} to enhance retrieval from the vector store which has Science textbook\n",
    "just give the question as response, dont add any other content and question should not be greater than 10 words\n",
    "\"\"\"\n",
    "\n",
    "prompt = PromptTemplate.from_template(template)"
   ]
  },
  {
   "cell_type": "code",
   "execution_count": 19,
   "id": "be6532e3",
   "metadata": {},
   "outputs": [],
   "source": [
    "refine_chain = prompt | model"
   ]
  },
  {
   "cell_type": "code",
   "execution_count": 20,
   "id": "d229d5cc",
   "metadata": {},
   "outputs": [],
   "source": [
    "\n",
    "result = refine_chain.invoke({'question': question})"
   ]
  },
  {
   "cell_type": "code",
   "execution_count": 21,
   "id": "56de355c",
   "metadata": {},
   "outputs": [
    {
     "name": "stdout",
     "output_type": "stream",
     "text": [
      "Venkat, how does science enhance textbook vector store retrieval?\n",
      "\n"
     ]
    }
   ],
   "source": [
    "print(result.content)"
   ]
  }
 ],
 "metadata": {
  "kernelspec": {
   "display_name": ".venv",
   "language": "python",
   "name": "python3"
  },
  "language_info": {
   "codemirror_mode": {
    "name": "ipython",
    "version": 3
   },
   "file_extension": ".py",
   "mimetype": "text/x-python",
   "name": "python",
   "nbconvert_exporter": "python",
   "pygments_lexer": "ipython3",
   "version": "3.11.9"
  }
 },
 "nbformat": 4,
 "nbformat_minor": 5
}
